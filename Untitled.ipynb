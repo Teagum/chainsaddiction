{
 "cells": [
  {
   "cell_type": "code",
   "execution_count": 1,
   "metadata": {},
   "outputs": [
    {
     "name": "stdout",
     "output_type": "stream",
     "text": [
      "Populating the interactive namespace from numpy and matplotlib\n"
     ]
    }
   ],
   "source": [
    "%pylab inline"
   ]
  },
  {
   "cell_type": "code",
   "execution_count": 2,
   "metadata": {},
   "outputs": [],
   "source": [
    "import hmm\n",
    "import soundfile as sf\n",
    "from apollon.signal.spectral import STFT\n",
    "#from apollon.hmm.poisson_core import poisson_EM\n",
    "from apollon.datasets import load_earthquakes"
   ]
  },
  {
   "cell_type": "code",
   "execution_count": 3,
   "metadata": {},
   "outputs": [
    {
     "ename": "NameError",
     "evalue": "name 'x' is not defined",
     "output_type": "error",
     "traceback": [
      "\u001b[0;31m---------------------------------------------------------------------------\u001b[0m",
      "\u001b[0;31mNameError\u001b[0m                                 Traceback (most recent call last)",
      "\u001b[0;32m<ipython-input-3-8856d6641014>\u001b[0m in \u001b[0;36m<module>\u001b[0;34m\u001b[0m\n\u001b[0;32m----> 1\u001b[0;31m \u001b[0mX\u001b[0m \u001b[0;34m=\u001b[0m \u001b[0mSTFT\u001b[0m\u001b[0;34m(\u001b[0m\u001b[0mx\u001b[0m\u001b[0;34m,\u001b[0m \u001b[0mfs\u001b[0m\u001b[0;34m,\u001b[0m \u001b[0mn_perseg\u001b[0m\u001b[0;34m=\u001b[0m\u001b[0;36m2048\u001b[0m\u001b[0;34m)\u001b[0m\u001b[0;34m\u001b[0m\u001b[0m\n\u001b[0m\u001b[1;32m      2\u001b[0m \u001b[0mfeat\u001b[0m \u001b[0;34m=\u001b[0m \u001b[0mX\u001b[0m\u001b[0;34m.\u001b[0m\u001b[0mcentroid\u001b[0m\u001b[0;34m(\u001b[0m\u001b[0;34m)\u001b[0m\u001b[0;34m.\u001b[0m\u001b[0mround\u001b[0m\u001b[0;34m(\u001b[0m\u001b[0;34m)\u001b[0m\u001b[0;34m.\u001b[0m\u001b[0mastype\u001b[0m\u001b[0;34m(\u001b[0m\u001b[0mint\u001b[0m\u001b[0;34m)\u001b[0m\u001b[0;34m\u001b[0m\u001b[0m\n",
      "\u001b[0;31mNameError\u001b[0m: name 'x' is not defined"
     ]
    }
   ],
   "source": [
    "X = STFT(x, fs, n_perseg=2048)\n",
    "feat = X.centroid().round().astype(int)"
   ]
  },
  {
   "cell_type": "code",
   "execution_count": 11,
   "metadata": {},
   "outputs": [],
   "source": [
    "x = np.array([  13, 14,  8, 10, 16, 26, 32, 27, 18, 32,\n",
    "                36, 24, 22, 23, 22, 18, 25, 21, 21, 14,\n",
    "                 8, 11, 14, 23, 18, 17, 19, 20, 22, 19,\n",
    "                13, 26, 13, 14, 22, 24, 21, 22, 26, 21,\n",
    "                23, 24, 27, 41, 31, 27, 35, 26, 28, 36,\n",
    "                39, 21, 17, 22, 17, 19, 15, 34, 10, 15,\n",
    "                22, 18, 15, 20, 15, 22, 19, 16, 30, 27,\n",
    "                29, 23, 20, 16, 21, 21, 25, 16, 18, 15,\n",
    "                18, 14, 10, 15,  8, 15,  6, 11,  8,  7,\n",
    "                18, 16, 13, 12, 13, 20, 15, 16, 12, 18,\n",
    "                15, 16, 13, 15, 16, 11, 11])"
   ]
  },
  {
   "cell_type": "code",
   "execution_count": 3,
   "metadata": {},
   "outputs": [],
   "source": [
    "l = array([10, 20, 50])\n",
    "g = array([[.8, .1, .1], [.1, .8, .1], [.1, .1, .8]])\n",
    "d = array([.3, .3, .3])"
   ]
  },
  {
   "cell_type": "code",
   "execution_count": 14,
   "metadata": {},
   "outputs": [],
   "source": [
    "N = 20\n",
    "x = r_[poisson(15, N),\n",
    "       poisson(100, N), \n",
    "       poisson(500, N)]"
   ]
  },
  {
   "cell_type": "code",
   "execution_count": 15,
   "metadata": {},
   "outputs": [
    {
     "data": {
      "text/plain": [
       "array([ 10,  12,  14,  14,  14,   8,  21,  26,  12,   6,  11,  19,  13,\n",
       "        15,  18,  14,  16,  18,  15,   9, 109,  91,  98, 103, 118,  92,\n",
       "       100, 107,  85,  90, 113, 102,  87,  98,  88,  98,  95,  98, 115,\n",
       "       106, 507, 503, 508, 530, 472, 498, 469, 527, 507, 503, 494, 510,\n",
       "       518, 491, 490, 510, 476, 523, 516, 492])"
      ]
     },
     "execution_count": 15,
     "metadata": {},
     "output_type": "execute_result"
    }
   ],
   "source": [
    "x"
   ]
  },
  {
   "cell_type": "code",
   "execution_count": 6,
   "metadata": {},
   "outputs": [
    {
     "data": {
      "text/plain": [
       "(1, array([10., 20., 50.], dtype=float128), array([[0.8, 0.1, 0.1],\n",
       "        [0.1, 0.8, 0.1],\n",
       "        [0.1, 0.1, 0.8]], dtype=float128), array([0.3, 0.3, 0.3], dtype=float128), nan, nan, nan, 0)"
      ]
     },
     "execution_count": 6,
     "metadata": {},
     "output_type": "execute_result"
    }
   ],
   "source": [
    "ret = hmm.hmm_poisson_EM(x, l, g, d, 1000, 1e-5)\n",
    "ret"
   ]
  },
  {
   "cell_type": "code",
   "execution_count": 11,
   "metadata": {},
   "outputs": [
    {
     "data": {
      "text/plain": [
       "3.720075976020836e-44"
      ]
     },
     "execution_count": 11,
     "metadata": {},
     "output_type": "execute_result"
    }
   ],
   "source": [
    "exp(-100)"
   ]
  },
  {
   "cell_type": "code",
   "execution_count": 20,
   "metadata": {},
   "outputs": [
    {
     "data": {
      "text/plain": [
       "3.720075976020836e-44"
      ]
     },
     "execution_count": 20,
     "metadata": {},
     "output_type": "execute_result"
    }
   ],
   "source": [
    "exp(-100)"
   ]
  },
  {
   "cell_type": "code",
   "execution_count": 16,
   "metadata": {},
   "outputs": [],
   "source": [
    "with open('tests/data/test_15_100_50.txt', 'w') as file:\n",
    "    for i in x:\n",
    "        print(i, sep=\"\\n\", file=file)\n",
    "    "
   ]
  },
  {
   "cell_type": "code",
   "execution_count": null,
   "metadata": {},
   "outputs": [],
   "source": []
  }
 ],
 "metadata": {
  "kernelspec": {
   "display_name": "Python 3",
   "language": "python",
   "name": "python3"
  },
  "language_info": {
   "codemirror_mode": {
    "name": "ipython",
    "version": 3
   },
   "file_extension": ".py",
   "mimetype": "text/x-python",
   "name": "python",
   "nbconvert_exporter": "python",
   "pygments_lexer": "ipython3",
   "version": "3.7.0"
  }
 },
 "nbformat": 4,
 "nbformat_minor": 2
}
