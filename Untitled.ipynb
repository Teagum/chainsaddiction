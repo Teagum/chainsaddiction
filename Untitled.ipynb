{
 "cells": [
  {
   "cell_type": "code",
   "execution_count": 1,
   "metadata": {},
   "outputs": [
    {
     "name": "stdout",
     "output_type": "stream",
     "text": [
      "Populating the interactive namespace from numpy and matplotlib\n"
     ]
    }
   ],
   "source": [
    "%pylab inline"
   ]
  },
  {
   "cell_type": "code",
   "execution_count": 2,
   "metadata": {},
   "outputs": [],
   "source": [
    "import hmm\n",
    "import soundfile as sf\n",
    "from apollon.signal.spectral import STFT\n",
    "from apollon.hmm.poisson_core import poisson_EM"
   ]
  },
  {
   "cell_type": "code",
   "execution_count": 3,
   "metadata": {},
   "outputs": [],
   "source": [
    "x, fs = sf.read('../../../audio/Aidan.wav')\n",
    "x = x.sum(axis=1) / 2\n",
    "x = x[:-44100*2]"
   ]
  },
  {
   "cell_type": "code",
   "execution_count": 4,
   "metadata": {},
   "outputs": [],
   "source": [
    "X = STFT(x, fs, n_perseg=2048)\n",
    "feat = X.centroid().round().astype(int)"
   ]
  },
  {
   "cell_type": "code",
   "execution_count": 5,
   "metadata": {},
   "outputs": [],
   "source": [
    "feat = r_[poisson(15, 100), poisson(100, 100), poisson(5000, 100)]"
   ]
  },
  {
   "cell_type": "code",
   "execution_count": 6,
   "metadata": {},
   "outputs": [],
   "source": [
    "l = array([10, 60, 80])\n",
    "g = array([[.8, .1, .1], [.1, .8, .1], [.1, .1, .8]])\n",
    "d = array([.3, .3, .3])"
   ]
  },
  {
   "cell_type": "code",
   "execution_count": 7,
   "metadata": {},
   "outputs": [],
   "source": [
    "__lambda = np.require(l, dtype=np.float128, requirements=['C_CONTIGUOUS', 'ALIGNED'])\n",
    "__gamma = np.require(g, dtype=np.float128, requirements=['C_CONTIGUOUS', 'ALIGNED'])\n",
    "__delta = np.require(d, dtype=np.float128, requirements=['C_CONTIGUOUS', 'ALIGNED'])\n",
    "__x = np.require(feat, dtype=np.long, requirements=['C_CONTIGUOUS', 'ALIGNED'])"
   ]
  },
  {
   "cell_type": "code",
   "execution_count": 8,
   "metadata": {},
   "outputs": [],
   "source": [
    "y = hmm.hmm_poisson_EM(__x, __lambda, __gamma, __delta, 1000, 1e-5)"
   ]
  },
  {
   "cell_type": "code",
   "execution_count": 9,
   "metadata": {},
   "outputs": [
    {
     "data": {
      "text/plain": [
       "(array([10., 60., 80.], dtype=float128), array([[0.8, 0.1, 0.1],\n",
       "        [0.1, 0.8, 0.1],\n",
       "        [0.1, 0.1, 0.8]], dtype=float128), array([0.3, 0.3, 0.3], dtype=float128), nan, nan, nan, 0)"
      ]
     },
     "execution_count": 9,
     "metadata": {},
     "output_type": "execute_result"
    }
   ],
   "source": [
    "y"
   ]
  },
  {
   "cell_type": "code",
   "execution_count": null,
   "metadata": {},
   "outputs": [],
   "source": []
  },
  {
   "cell_type": "code",
   "execution_count": null,
   "metadata": {},
   "outputs": [],
   "source": []
  }
 ],
 "metadata": {
  "kernelspec": {
   "display_name": "Python 3",
   "language": "python",
   "name": "python3"
  },
  "language_info": {
   "codemirror_mode": {
    "name": "ipython",
    "version": 3
   },
   "file_extension": ".py",
   "mimetype": "text/x-python",
   "name": "python",
   "nbconvert_exporter": "python",
   "pygments_lexer": "ipython3",
   "version": "3.7.0"
  }
 },
 "nbformat": 4,
 "nbformat_minor": 2
}
