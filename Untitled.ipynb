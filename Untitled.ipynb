{
 "cells": [
  {
   "cell_type": "code",
   "execution_count": 2,
   "metadata": {},
   "outputs": [
    {
     "name": "stdout",
     "output_type": "stream",
     "text": [
      "Populating the interactive namespace from numpy and matplotlib\n"
     ]
    }
   ],
   "source": [
    "%pylab inline"
   ]
  },
  {
   "cell_type": "code",
   "execution_count": 3,
   "metadata": {},
   "outputs": [],
   "source": [
    "import hmm\n",
    "import soundfile as sf\n",
    "from apollon.signal.spectral import STFT\n",
    "#from apollon.hmm.poisson_core import poisson_EM\n",
    "from apollon.datasets import load_earthquakes"
   ]
  },
  {
   "cell_type": "code",
   "execution_count": 4,
   "metadata": {},
   "outputs": [],
   "source": [
    "X = STFT(x, fs, n_perseg=2048)\n",
    "feat = X.centroid().round().astype(int)"
   ]
  },
  {
   "cell_type": "code",
   "execution_count": 5,
   "metadata": {},
   "outputs": [],
   "source": [
    "feat = r_[poisson(15, 100), poisson(100, 100), poisson(5000, 100)]"
   ]
  },
  {
   "cell_type": "code",
   "execution_count": 5,
   "metadata": {},
   "outputs": [],
   "source": [
    "l = array([10, 60, 80])\n",
    "g = array([[.8, .1, .1], [.1, .8, .1], [.1, .1, .8]])\n",
    "d = array([.3, .3, .3])"
   ]
  },
  {
   "cell_type": "code",
   "execution_count": 10,
   "metadata": {},
   "outputs": [],
   "source": [
    "eq = load_earthquakes()"
   ]
  },
  {
   "cell_type": "code",
   "execution_count": 23,
   "metadata": {},
   "outputs": [],
   "source": [
    "ret = hmm.hmm_poisson_EM(eq.data, l, g, d, 1000, 1e-5)"
   ]
  },
  {
   "cell_type": "code",
   "execution_count": 24,
   "metadata": {},
   "outputs": [
    {
     "data": {
      "text/plain": [
       "(1,\n",
       " array([1.00000000e+000, 1.23956532e-186, 7.33086821e-208], dtype=float128),\n",
       " array([[2.94184025e-4932, 9.18150718e-0002, 1.00000000e+0000],\n",
       "        [5.57530805e-0002, 9.08184927e-0001, 9.85992172e-0017],\n",
       "        [2.13446105e-0002, 1.67257230e-0009, 1.11812190e-0083]],\n",
       "       dtype=float128),\n",
       " array([0.09182181, 0.00037985, 0.00039851], dtype=float128),\n",
       " -651.5473090072508,\n",
       " -611.4548764903222,\n",
       " -340.7736545036254,\n",
       " 66)"
      ]
     },
     "execution_count": 24,
     "metadata": {},
     "output_type": "execute_result"
    }
   ],
   "source": [
    "ret"
   ]
  },
  {
   "cell_type": "code",
   "execution_count": null,
   "metadata": {
    "collapsed": true
   },
   "outputs": [],
   "source": []
  },
  {
   "cell_type": "code",
   "execution_count": 19,
   "metadata": {},
   "outputs": [
    {
     "data": {
      "text/plain": [
       "array([[0.    , 0.0558, 0.0213],\n",
       "       [0.0918, 0.9082, 0.    ],\n",
       "       [1.    , 0.    , 0.    ]])"
      ]
     },
     "execution_count": 19,
     "metadata": {},
     "output_type": "execute_result"
    }
   ],
   "source": [
    "ret[2].astype(float).round(4)"
   ]
  },
  {
   "cell_type": "code",
   "execution_count": null,
   "metadata": {},
   "outputs": [],
   "source": []
  },
  {
   "cell_type": "code",
   "execution_count": 8,
   "metadata": {},
   "outputs": [],
   "source": [
    "y = hmm.hmm_poisson_EM(__x, __lambda, __gamma, __delta, 1000, 1e-5)"
   ]
  },
  {
   "cell_type": "code",
   "execution_count": 9,
   "metadata": {},
   "outputs": [
    {
     "data": {
      "text/plain": [
       "(array([10., 60., 80.], dtype=float128), array([[0.8, 0.1, 0.1],\n",
       "        [0.1, 0.8, 0.1],\n",
       "        [0.1, 0.1, 0.8]], dtype=float128), array([0.3, 0.3, 0.3], dtype=float128), nan, nan, nan, 0)"
      ]
     },
     "execution_count": 9,
     "metadata": {},
     "output_type": "execute_result"
    }
   ],
   "source": [
    "y"
   ]
  },
  {
   "cell_type": "code",
   "execution_count": null,
   "metadata": {},
   "outputs": [],
   "source": []
  },
  {
   "cell_type": "code",
   "execution_count": null,
   "metadata": {},
   "outputs": [],
   "source": []
  }
 ],
 "metadata": {
  "kernelspec": {
   "display_name": "Python 3",
   "language": "python",
   "name": "python3"
  },
  "language_info": {
   "codemirror_mode": {
    "name": "ipython",
    "version": 3
   },
   "file_extension": ".py",
   "mimetype": "text/x-python",
   "name": "python",
   "nbconvert_exporter": "python",
   "pygments_lexer": "ipython3",
   "version": "3.7.0"
  }
 },
 "nbformat": 4,
 "nbformat_minor": 2
}
